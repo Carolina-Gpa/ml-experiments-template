{
 "cells": [
  {
   "cell_type": "markdown",
   "id": "involved-declaration",
   "metadata": {},
   "source": [
    "# Report\n",
    "\n",
    "In this notebook we report progress on the project of house price prediction."
   ]
  },
  {
   "cell_type": "code",
   "execution_count": 1,
   "id": "aerial-float",
   "metadata": {},
   "outputs": [],
   "source": [
    "import os\n",
    "from functools import partial"
   ]
  },
  {
   "cell_type": "code",
   "execution_count": 52,
   "id": "confidential-gender",
   "metadata": {},
   "outputs": [],
   "source": [
    "import joblib\n",
    "import pandas as pd"
   ]
  },
  {
   "cell_type": "code",
   "execution_count": 12,
   "id": "legal-botswana",
   "metadata": {},
   "outputs": [],
   "source": [
    "import app\n",
    "import data\n",
    "import model\n",
    "import metrics"
   ]
  },
  {
   "cell_type": "code",
   "execution_count": 4,
   "id": "successful-vegetable",
   "metadata": {},
   "outputs": [],
   "source": [
    "%load_ext autoreload\n",
    "%autoreload 2"
   ]
  },
  {
   "cell_type": "code",
   "execution_count": 5,
   "id": "hazardous-profile",
   "metadata": {},
   "outputs": [],
   "source": [
    "models_dir = \"models\""
   ]
  },
  {
   "cell_type": "code",
   "execution_count": 6,
   "id": "union-publication",
   "metadata": {},
   "outputs": [],
   "source": [
    "dataset_path = \"dataset.csv\""
   ]
  },
  {
   "cell_type": "code",
   "execution_count": 7,
   "id": "central-pendant",
   "metadata": {},
   "outputs": [],
   "source": [
    "dataset = data.get_dataset(\n",
    "    partial(pd.read_csv, filepath_or_buffer=dataset_path),\n",
    "    splits=(\"train\", \"test\")\n",
    ")"
   ]
  },
  {
   "cell_type": "markdown",
   "id": "boring-pastor",
   "metadata": {},
   "source": [
    "**If you need to visualize anything from your training data, do it here**"
   ]
  },
  {
   "cell_type": "code",
   "execution_count": 21,
   "id": "involved-speed",
   "metadata": {},
   "outputs": [],
   "source": []
  },
  {
   "cell_type": "markdown",
   "id": "specific-solid",
   "metadata": {},
   "source": [
    "## Baseline\n",
    "\n",
    "Before doing any complex Machine Learning model, let's try to solve the problem by having an initial educated guess. "
   ]
  },
  {
   "cell_type": "code",
   "execution_count": 98,
   "id": "civilian-scenario",
   "metadata": {},
   "outputs": [],
   "source": [
    "model_path = os.path.join(\"models\", \"2021-05-29 17:22:00+00:00\", \"model.joblib\")\n",
    "reg = joblib.load(model_path)"
   ]
  },
  {
   "cell_type": "code",
   "execution_count": 100,
   "id": "finnish-desktop",
   "metadata": {},
   "outputs": [],
   "source": [
    "train_predictions = reg.predict(dataset[\"train\"][0])"
   ]
  },
  {
   "cell_type": "code",
   "execution_count": 103,
   "id": "upset-season",
   "metadata": {},
   "outputs": [],
   "source": [
    "test_predictions = reg.predict(dataset[\"test\"][0])"
   ]
  },
  {
   "cell_type": "code",
   "execution_count": 105,
   "id": "specified-printer",
   "metadata": {},
   "outputs": [
    {
     "name": "stdout",
     "output_type": "stream",
     "text": [
      "Train error: 33609.9990756996, Test error: 34799.09487677742\n"
     ]
    }
   ],
   "source": [
    "train_error = metrics.custom_error(dataset[\"train\"][1], train_predictions)\n",
    "test_error = metrics.custom_error(dataset[\"test\"][1], test_predictions)\n",
    "print(f\"Train error: {train_error}, Test error: {test_error}\")"
   ]
  },
  {
   "cell_type": "markdown",
   "id": "indian-senate",
   "metadata": {},
   "source": [
    "## Linear Regression Model \n",
    "\n",
    "We want to try easy things first, so know lets see how a linear regression model does."
   ]
  },
  {
   "cell_type": "code",
   "execution_count": null,
   "id": "assumed-column",
   "metadata": {},
   "outputs": [],
   "source": [
    "model_path = \n",
    "model =\n",
    "train_predictions = \n",
    "test_predictions = \n",
    "train_error =\n",
    "test_error = "
   ]
  },
  {
   "cell_type": "code",
   "execution_count": null,
   "id": "incredible-newton",
   "metadata": {},
   "outputs": [],
   "source": []
  },
  {
   "cell_type": "markdown",
   "id": "dedicated-description",
   "metadata": {},
   "source": [
    "## Linear regression with Feature Engineering\n",
    "\n",
    "Probably the previous model is not good enough, let's see how is the performance of a model using some produced features.  "
   ]
  },
  {
   "cell_type": "code",
   "execution_count": null,
   "id": "deluxe-lesbian",
   "metadata": {},
   "outputs": [],
   "source": []
  },
  {
   "cell_type": "code",
   "execution_count": null,
   "id": "undefined-merchandise",
   "metadata": {},
   "outputs": [],
   "source": []
  },
  {
   "cell_type": "markdown",
   "id": "opened-borough",
   "metadata": {},
   "source": [
    "## Regularized Linear Regression\n",
    "\n",
    "Let's assume you are overfitting. Load the results of a linear regression model with regularized loss"
   ]
  },
  {
   "cell_type": "code",
   "execution_count": null,
   "id": "lesbian-intellectual",
   "metadata": {},
   "outputs": [],
   "source": [
    "model_path = \n",
    "model =\n",
    "train_predictions = \n",
    "test_predictions = \n",
    "train_error =\n",
    "test_error = "
   ]
  },
  {
   "cell_type": "code",
   "execution_count": null,
   "id": "blond-science",
   "metadata": {},
   "outputs": [],
   "source": []
  },
  {
   "cell_type": "markdown",
   "id": "hidden-begin",
   "metadata": {},
   "source": [
    "## Decision Tree\n",
    "\n",
    "Decision trees ofer great complexity, they can fit even a noisy dataset almost perfectly. Let's see how it behaves on the task at hand. \n",
    "\n",
    "**Overfiting case**\n",
    "Let's see the results for a model that has greatly overfit the data, this wouldn't be an ideal model, but at least it could tell that our model is powerful enough for the task at hand"
   ]
  },
  {
   "cell_type": "code",
   "execution_count": null,
   "id": "theoretical-validation",
   "metadata": {},
   "outputs": [],
   "source": [
    "model_path = \n",
    "model =\n",
    "train_predictions = \n",
    "test_predictions = \n",
    "train_error =\n",
    "test_error = "
   ]
  },
  {
   "cell_type": "code",
   "execution_count": null,
   "id": "imposed-crest",
   "metadata": {},
   "outputs": [],
   "source": []
  },
  {
   "cell_type": "markdown",
   "id": "blessed-pattern",
   "metadata": {},
   "source": [
    "**Using best hyper params** Now let's see thow much a simple decision tree can give us"
   ]
  },
  {
   "cell_type": "code",
   "execution_count": null,
   "id": "fabulous-appendix",
   "metadata": {},
   "outputs": [],
   "source": [
    "model_path = \n",
    "model =\n",
    "train_predictions = \n",
    "test_predictions = \n",
    "train_error =\n",
    "test_error = "
   ]
  },
  {
   "cell_type": "code",
   "execution_count": null,
   "id": "useful-order",
   "metadata": {},
   "outputs": [],
   "source": []
  },
  {
   "cell_type": "markdown",
   "id": "assigned-acting",
   "metadata": {},
   "source": [
    "## Random Forest\n",
    "\n",
    "Now it is time to use a model that can properly help us to regularize the previous one."
   ]
  },
  {
   "cell_type": "code",
   "execution_count": null,
   "id": "dress-instrumentation",
   "metadata": {},
   "outputs": [],
   "source": [
    "model_path = \n",
    "model =\n",
    "train_predictions = \n",
    "test_predictions = \n",
    "train_error =\n",
    "test_error = "
   ]
  },
  {
   "cell_type": "code",
   "execution_count": null,
   "id": "alternative-single",
   "metadata": {},
   "outputs": [],
   "source": []
  },
  {
   "cell_type": "code",
   "execution_count": null,
   "id": "junior-interaction",
   "metadata": {},
   "outputs": [],
   "source": []
  },
  {
   "cell_type": "code",
   "execution_count": null,
   "id": "timely-profession",
   "metadata": {},
   "outputs": [],
   "source": []
  }
 ],
 "metadata": {
  "kernelspec": {
   "display_name": "Python 3",
   "language": "python",
   "name": "python3"
  },
  "language_info": {
   "codemirror_mode": {
    "name": "ipython",
    "version": 3
   },
   "file_extension": ".py",
   "mimetype": "text/x-python",
   "name": "python",
   "nbconvert_exporter": "python",
   "pygments_lexer": "ipython3",
   "version": "3.7.9"
  }
 },
 "nbformat": 4,
 "nbformat_minor": 5
}
